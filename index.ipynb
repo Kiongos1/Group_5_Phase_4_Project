{
 "cells": [
  {
   "cell_type": "markdown",
   "metadata": {},
   "source": [
    "## Project Overview\n",
    "## FROM TWEETS TO STRATEGY: PREDICTING SENTIMENT AND SHAPING CUSTOMER ENGAGEMENT\n",
    "### Business Understanding:\n",
    "In the current digital landscape, social media platforms such as X (Formerly Twitter)  have become powerful spaces where consumers express their opinions, experiences, and perceptions about brands and products. These online conversations offer organizations a valuable opportunity to measure customer sentiment, evaluate brand perception, and shape strategies that drive competitive advantage. \n",
    "The project, “From Tweets to Strategy: Predicting Sentiment and Shaping Customer Engagement,” is motivated by the need for businesses to translate unstructured social media data into actionable insights."
   ]
  },
  {
   "cell_type": "markdown",
   "metadata": {},
   "source": [
    "### Business Objectives: \n",
    "1. Analyze customer perception of Apple and Google brands, including their products and services.\n",
    "\n",
    "2. Build a predictive model that classifies sentiments of a tweet.\n",
    "\n",
    "3. Provide actionable insights that help shape marketing campaigns, improve customer service, and strengthen engagement strategies."
   ]
  },
  {
   "cell_type": "markdown",
   "metadata": {},
   "source": [
    "### Target Audience: \n",
    "\n",
    "This project is intended for:\n",
    "\n",
    "a.\tMarketing Teams at Apple and Google – to design campaigns that amplify positive sentiment and address negative perceptions.\n",
    "\n",
    "b.\tCustomer Engagement & Experience Managers – to strengthen user relationships and improve satisfaction based on sentiment insights.\n",
    "\n",
    "c.\tProduct Managers (Apple & Google divisions such as iPhone, Pixel, Android, iOS) – to align product features with consumer expectations revealed in sentiment analysis.\n",
    "\n",
    "d.\tCompetitive Strategy Analysts – to benchmark Apple and Google’s brand perception in different product categories and identify opportunities for competitive advantage.\n",
    "\n",
    "e.\tBusiness Executives & Senior Leadership – to leverage sentiment-driven insights for strategic planning, market positioning, and long-term brand growth.\n"
   ]
  },
  {
   "cell_type": "code",
   "execution_count": 1,
   "metadata": {},
   "outputs": [
    {
     "name": "stderr",
     "output_type": "stream",
     "text": [
      "[nltk_data] Downloading package punkt to\n",
      "[nltk_data]     C:\\Users\\user\\AppData\\Roaming\\nltk_data...\n",
      "[nltk_data]   Package punkt is already up-to-date!\n",
      "[nltk_data] Downloading package wordnet to\n",
      "[nltk_data]     C:\\Users\\user\\AppData\\Roaming\\nltk_data...\n",
      "[nltk_data]   Package wordnet is already up-to-date!\n"
     ]
    }
   ],
   "source": [
    "# load necessary libraries\n",
    "import pandas as pd\n",
    "import numpy as np\n",
    "import matplotlib.pyplot as plt\n",
    "import seaborn as sns\n",
    "from sklearn.model_selection import train_test_split\n",
    "from sklearn.feature_extraction.text import TfidfVectorizer\n",
    "from sklearn.naive_bayes import MultinomialNB\n",
    "from sklearn.pipeline import Pipeline\n",
    "from sklearn.metrics import classification_report, confusion_matrix,accuracy_score\n",
    "import re\n",
    "from nltk.tokenize import word_tokenize\n",
    "import nltk\n",
    "nltk.download(\"punkt\")\n",
    "import warnings\n",
    "warnings.filterwarnings('ignore')\n",
    "from nltk.corpus import stopwords\n",
    "from nltk.stem import WordNetLemmatizer\n",
    "nltk.download(\"wordnet\")\n",
    "from collections import Counter\n"
   ]
  },
  {
   "cell_type": "markdown",
   "metadata": {},
   "source": [
    "### 1.0 Loading Dataset"
   ]
  },
  {
   "cell_type": "code",
   "execution_count": 2,
   "metadata": {},
   "outputs": [
    {
     "data": {
      "application/vnd.microsoft.datawrangler.viewer.v0+json": {
       "columns": [
        {
         "name": "index",
         "rawType": "int64",
         "type": "integer"
        },
        {
         "name": "tweet_text",
         "rawType": "object",
         "type": "string"
        },
        {
         "name": "emotion_in_tweet_is_directed_at",
         "rawType": "object",
         "type": "string"
        },
        {
         "name": "is_there_an_emotion_directed_at_a_brand_or_product",
         "rawType": "object",
         "type": "string"
        }
       ],
       "ref": "65964a69-88c6-4319-a148-750b4068f75d",
       "rows": [
        [
         "0",
         ".@wesley83 I have a 3G iPhone. After 3 hrs tweeting at #RISE_Austin, it was dead!  I need to upgrade. Plugin stations at #SXSW.",
         "iPhone",
         "Negative emotion"
        ],
        [
         "1",
         "@jessedee Know about @fludapp ? Awesome iPad/iPhone app that you'll likely appreciate for its design. Also, they're giving free Ts at #SXSW",
         "iPad or iPhone App",
         "Positive emotion"
        ],
        [
         "2",
         "@swonderlin Can not wait for #iPad 2 also. They should sale them down at #SXSW.",
         "iPad",
         "Positive emotion"
        ],
        [
         "3",
         "@sxsw I hope this year's festival isn't as crashy as this year's iPhone app. #sxsw",
         "iPad or iPhone App",
         "Negative emotion"
        ],
        [
         "4",
         "@sxtxstate great stuff on Fri #SXSW: Marissa Mayer (Google), Tim O'Reilly (tech books/conferences) &amp; Matt Mullenweg (Wordpress)",
         "Google",
         "Positive emotion"
        ]
       ],
       "shape": {
        "columns": 3,
        "rows": 5
       }
      },
      "text/html": [
       "<div>\n",
       "<style scoped>\n",
       "    .dataframe tbody tr th:only-of-type {\n",
       "        vertical-align: middle;\n",
       "    }\n",
       "\n",
       "    .dataframe tbody tr th {\n",
       "        vertical-align: top;\n",
       "    }\n",
       "\n",
       "    .dataframe thead th {\n",
       "        text-align: right;\n",
       "    }\n",
       "</style>\n",
       "<table border=\"1\" class=\"dataframe\">\n",
       "  <thead>\n",
       "    <tr style=\"text-align: right;\">\n",
       "      <th></th>\n",
       "      <th>tweet_text</th>\n",
       "      <th>emotion_in_tweet_is_directed_at</th>\n",
       "      <th>is_there_an_emotion_directed_at_a_brand_or_product</th>\n",
       "    </tr>\n",
       "  </thead>\n",
       "  <tbody>\n",
       "    <tr>\n",
       "      <th>0</th>\n",
       "      <td>.@wesley83 I have a 3G iPhone. After 3 hrs twe...</td>\n",
       "      <td>iPhone</td>\n",
       "      <td>Negative emotion</td>\n",
       "    </tr>\n",
       "    <tr>\n",
       "      <th>1</th>\n",
       "      <td>@jessedee Know about @fludapp ? Awesome iPad/i...</td>\n",
       "      <td>iPad or iPhone App</td>\n",
       "      <td>Positive emotion</td>\n",
       "    </tr>\n",
       "    <tr>\n",
       "      <th>2</th>\n",
       "      <td>@swonderlin Can not wait for #iPad 2 also. The...</td>\n",
       "      <td>iPad</td>\n",
       "      <td>Positive emotion</td>\n",
       "    </tr>\n",
       "    <tr>\n",
       "      <th>3</th>\n",
       "      <td>@sxsw I hope this year's festival isn't as cra...</td>\n",
       "      <td>iPad or iPhone App</td>\n",
       "      <td>Negative emotion</td>\n",
       "    </tr>\n",
       "    <tr>\n",
       "      <th>4</th>\n",
       "      <td>@sxtxstate great stuff on Fri #SXSW: Marissa M...</td>\n",
       "      <td>Google</td>\n",
       "      <td>Positive emotion</td>\n",
       "    </tr>\n",
       "  </tbody>\n",
       "</table>\n",
       "</div>"
      ],
      "text/plain": [
       "                                          tweet_text  \\\n",
       "0  .@wesley83 I have a 3G iPhone. After 3 hrs twe...   \n",
       "1  @jessedee Know about @fludapp ? Awesome iPad/i...   \n",
       "2  @swonderlin Can not wait for #iPad 2 also. The...   \n",
       "3  @sxsw I hope this year's festival isn't as cra...   \n",
       "4  @sxtxstate great stuff on Fri #SXSW: Marissa M...   \n",
       "\n",
       "  emotion_in_tweet_is_directed_at  \\\n",
       "0                          iPhone   \n",
       "1              iPad or iPhone App   \n",
       "2                            iPad   \n",
       "3              iPad or iPhone App   \n",
       "4                          Google   \n",
       "\n",
       "  is_there_an_emotion_directed_at_a_brand_or_product  \n",
       "0                                   Negative emotion  \n",
       "1                                   Positive emotion  \n",
       "2                                   Positive emotion  \n",
       "3                                   Negative emotion  \n",
       "4                                   Positive emotion  "
      ]
     },
     "execution_count": 2,
     "metadata": {},
     "output_type": "execute_result"
    }
   ],
   "source": [
    "# load the dataset\n",
    "df = pd.read_csv(\"Data/judge_tweet_product_company.csv\", encoding=\"latin-1\")\n",
    "df.head()\n"
   ]
  },
  {
   "cell_type": "code",
   "execution_count": 3,
   "metadata": {},
   "outputs": [
    {
     "name": "stdout",
     "output_type": "stream",
     "text": [
      "<class 'pandas.core.frame.DataFrame'>\n",
      "RangeIndex: 9093 entries, 0 to 9092\n",
      "Data columns (total 3 columns):\n",
      " #   Column                                              Non-Null Count  Dtype \n",
      "---  ------                                              --------------  ----- \n",
      " 0   tweet_text                                          9092 non-null   object\n",
      " 1   emotion_in_tweet_is_directed_at                     3291 non-null   object\n",
      " 2   is_there_an_emotion_directed_at_a_brand_or_product  9093 non-null   object\n",
      "dtypes: object(3)\n",
      "memory usage: 213.2+ KB\n"
     ]
    }
   ],
   "source": [
    "#.info to show information and structure of the data set\n",
    "df.info()"
   ]
  },
  {
   "cell_type": "markdown",
   "metadata": {},
   "source": [
    "## Data Preprocessing\n",
    "The preprocessing stage involved several steps to prepare the dataset for analysis. Missing values were addressed by dropping rows with empty tweets or sentiment labels and filling missing product references with a placeholder value. Categorical variables, such as sentiment labels, were standardized into consistent categories (positive, negative, neutral). Text preprocessing included cleaning tweet text by converting to lowercase, removing URLs, mentions, hashtags, numbers, and special characters while retaining elements that carry sentiment like emojis and punctuation. Finally, tokenization and stopword removal were applied before transforming the text into numerical features using TF-IDF for model training."
   ]
  },
  {
   "cell_type": "markdown",
   "metadata": {},
   "source": [
    "### Filling Missing Values \n",
    "The process begins by filling null values from `emotion_in_tweet_is_directed_at ` as this shows although there were emotions in the tweet, it might not have been explicitly directed into specific company or its product "
   ]
  },
  {
   "cell_type": "code",
   "execution_count": 4,
   "metadata": {},
   "outputs": [],
   "source": [
    "#Fillna values\n",
    "df['emotion_in_tweet_is_directed_at']=df['emotion_in_tweet_is_directed_at'].fillna('No_Target')\n"
   ]
  },
  {
   "cell_type": "markdown",
   "metadata": {},
   "source": [
    "### Dropping remaining rows with missing values"
   ]
  },
  {
   "cell_type": "code",
   "execution_count": 5,
   "metadata": {},
   "outputs": [],
   "source": [
    "# Remove rows with any remaining NaN values\n",
    "df.dropna(inplace=True)"
   ]
  },
  {
   "cell_type": "markdown",
   "metadata": {},
   "source": [
    "Next we standardize the values in the column is_there_an_emotion_directed_at_a_brand_or_product. Specifically, we merge the categories \"I can't tell\" and \"No emotion toward brand or product\" into a single class labeled \"Neutral emotion\". This helps simplify the dataset, reduce noise, and make the analysis of emotional direction more consistent"
   ]
  },
  {
   "cell_type": "code",
   "execution_count": 6,
   "metadata": {},
   "outputs": [],
   "source": [
    "# Standardize the entries in the 'is_there_an_emotion_directed_at_a_brand_or_product' column\n",
    "df['is_there_an_emotion_directed_at_a_brand_or_product'] = (\n",
    "    df['is_there_an_emotion_directed_at_a_brand_or_product']\n",
    "    .replace({\n",
    "        \"I can't tell\": \"Neutral emotion\",\n",
    "        \"No emotion toward brand or product\": \"Neutral emotion\"\n",
    "    })\n",
    ")\n"
   ]
  },
  {
   "cell_type": "code",
   "execution_count": 7,
   "metadata": {},
   "outputs": [
    {
     "data": {
      "application/vnd.microsoft.datawrangler.viewer.v0+json": {
       "columns": [
        {
         "name": "index",
         "rawType": "int64",
         "type": "integer"
        },
        {
         "name": "tweet_text",
         "rawType": "object",
         "type": "string"
        },
        {
         "name": "emotion_in_tweet_is_directed_at",
         "rawType": "object",
         "type": "string"
        },
        {
         "name": "is_there_an_emotion_directed_at_a_brand_or_product",
         "rawType": "object",
         "type": "string"
        }
       ],
       "ref": "c8281a7f-eeb8-4a72-ba0b-779d6cd0bc41",
       "rows": [
        [
         "0",
         ".@wesley83 I have a 3G iPhone. After 3 hrs tweeting at #RISE_Austin, it was dead!  I need to upgrade. Plugin stations at #SXSW.",
         "iPhone",
         "Negative emotion"
        ],
        [
         "1",
         "@jessedee Know about @fludapp ? Awesome iPad/iPhone app that you'll likely appreciate for its design. Also, they're giving free Ts at #SXSW",
         "iPad or iPhone App",
         "Positive emotion"
        ],
        [
         "2",
         "@swonderlin Can not wait for #iPad 2 also. They should sale them down at #SXSW.",
         "iPad",
         "Positive emotion"
        ],
        [
         "3",
         "@sxsw I hope this year's festival isn't as crashy as this year's iPhone app. #sxsw",
         "iPad or iPhone App",
         "Negative emotion"
        ],
        [
         "4",
         "@sxtxstate great stuff on Fri #SXSW: Marissa Mayer (Google), Tim O'Reilly (tech books/conferences) &amp; Matt Mullenweg (Wordpress)",
         "Google",
         "Positive emotion"
        ]
       ],
       "shape": {
        "columns": 3,
        "rows": 5
       }
      },
      "text/html": [
       "<div>\n",
       "<style scoped>\n",
       "    .dataframe tbody tr th:only-of-type {\n",
       "        vertical-align: middle;\n",
       "    }\n",
       "\n",
       "    .dataframe tbody tr th {\n",
       "        vertical-align: top;\n",
       "    }\n",
       "\n",
       "    .dataframe thead th {\n",
       "        text-align: right;\n",
       "    }\n",
       "</style>\n",
       "<table border=\"1\" class=\"dataframe\">\n",
       "  <thead>\n",
       "    <tr style=\"text-align: right;\">\n",
       "      <th></th>\n",
       "      <th>tweet_text</th>\n",
       "      <th>emotion_in_tweet_is_directed_at</th>\n",
       "      <th>is_there_an_emotion_directed_at_a_brand_or_product</th>\n",
       "    </tr>\n",
       "  </thead>\n",
       "  <tbody>\n",
       "    <tr>\n",
       "      <th>0</th>\n",
       "      <td>.@wesley83 I have a 3G iPhone. After 3 hrs twe...</td>\n",
       "      <td>iPhone</td>\n",
       "      <td>Negative emotion</td>\n",
       "    </tr>\n",
       "    <tr>\n",
       "      <th>1</th>\n",
       "      <td>@jessedee Know about @fludapp ? Awesome iPad/i...</td>\n",
       "      <td>iPad or iPhone App</td>\n",
       "      <td>Positive emotion</td>\n",
       "    </tr>\n",
       "    <tr>\n",
       "      <th>2</th>\n",
       "      <td>@swonderlin Can not wait for #iPad 2 also. The...</td>\n",
       "      <td>iPad</td>\n",
       "      <td>Positive emotion</td>\n",
       "    </tr>\n",
       "    <tr>\n",
       "      <th>3</th>\n",
       "      <td>@sxsw I hope this year's festival isn't as cra...</td>\n",
       "      <td>iPad or iPhone App</td>\n",
       "      <td>Negative emotion</td>\n",
       "    </tr>\n",
       "    <tr>\n",
       "      <th>4</th>\n",
       "      <td>@sxtxstate great stuff on Fri #SXSW: Marissa M...</td>\n",
       "      <td>Google</td>\n",
       "      <td>Positive emotion</td>\n",
       "    </tr>\n",
       "  </tbody>\n",
       "</table>\n",
       "</div>"
      ],
      "text/plain": [
       "                                          tweet_text  \\\n",
       "0  .@wesley83 I have a 3G iPhone. After 3 hrs twe...   \n",
       "1  @jessedee Know about @fludapp ? Awesome iPad/i...   \n",
       "2  @swonderlin Can not wait for #iPad 2 also. The...   \n",
       "3  @sxsw I hope this year's festival isn't as cra...   \n",
       "4  @sxtxstate great stuff on Fri #SXSW: Marissa M...   \n",
       "\n",
       "  emotion_in_tweet_is_directed_at  \\\n",
       "0                          iPhone   \n",
       "1              iPad or iPhone App   \n",
       "2                            iPad   \n",
       "3              iPad or iPhone App   \n",
       "4                          Google   \n",
       "\n",
       "  is_there_an_emotion_directed_at_a_brand_or_product  \n",
       "0                                   Negative emotion  \n",
       "1                                   Positive emotion  \n",
       "2                                   Positive emotion  \n",
       "3                                   Negative emotion  \n",
       "4                                   Positive emotion  "
      ]
     },
     "execution_count": 7,
     "metadata": {},
     "output_type": "execute_result"
    }
   ],
   "source": [
    "df.head()"
   ]
  },
  {
   "cell_type": "code",
   "execution_count": 8,
   "metadata": {},
   "outputs": [
    {
     "data": {
      "application/vnd.microsoft.datawrangler.viewer.v0+json": {
       "columns": [
        {
         "name": "index",
         "rawType": "object",
         "type": "string"
        },
        {
         "name": "is_there_an_emotion_directed_at_a_brand_or_product",
         "rawType": "int64",
         "type": "integer"
        }
       ],
       "ref": "514a11b2-a6f4-4c96-b988-04b140d1eba5",
       "rows": [
        [
         "Neutral emotion",
         "5544"
        ],
        [
         "Positive emotion",
         "2978"
        ],
        [
         "Negative emotion",
         "570"
        ]
       ],
       "shape": {
        "columns": 1,
        "rows": 3
       }
      },
      "text/plain": [
       "Neutral emotion     5544\n",
       "Positive emotion    2978\n",
       "Negative emotion     570\n",
       "Name: is_there_an_emotion_directed_at_a_brand_or_product, dtype: int64"
      ]
     },
     "execution_count": 8,
     "metadata": {},
     "output_type": "execute_result"
    }
   ],
   "source": [
    "df['is_there_an_emotion_directed_at_a_brand_or_product'].value_counts()"
   ]
  },
  {
   "cell_type": "markdown",
   "metadata": {},
   "source": [
    "### Tweet text preprocessing\n",
    "In this step, we clean and standardize the raw tweet text to prepare it for analysis. This involves removing noise such as URLs, mentions, hashtags, special characters, and extra whitespace, as well as converting text to lowercase. These transformations ensure that the text is consistent and easier to tokenize, enabling more accurate sentiment and emotion analysis later on."
   ]
  },
  {
   "cell_type": "code",
   "execution_count": 9,
   "metadata": {},
   "outputs": [
    {
     "data": {
      "application/vnd.microsoft.datawrangler.viewer.v0+json": {
       "columns": [
        {
         "name": "index",
         "rawType": "int64",
         "type": "integer"
        },
        {
         "name": "tweet_text",
         "rawType": "object",
         "type": "string"
        },
        {
         "name": "emotion_in_tweet_is_directed_at",
         "rawType": "object",
         "type": "string"
        },
        {
         "name": "is_there_an_emotion_directed_at_a_brand_or_product",
         "rawType": "object",
         "type": "string"
        },
        {
         "name": "clean_tweet",
         "rawType": "object",
         "type": "string"
        }
       ],
       "ref": "e2f5a47c-48af-4d40-ac22-afb5ffe84456",
       "rows": [
        [
         "0",
         ".@wesley83 I have a 3G iPhone. After 3 hrs tweeting at #RISE_Austin, it was dead!  I need to upgrade. Plugin stations at #SXSW.",
         "iPhone",
         "Negative emotion",
         "wesley i have a g iphone after hrs tweeting at rise austin it was dead i need to upgrade plugin stations at sxsw"
        ],
        [
         "1",
         "@jessedee Know about @fludapp ? Awesome iPad/iPhone app that you'll likely appreciate for its design. Also, they're giving free Ts at #SXSW",
         "iPad or iPhone App",
         "Positive emotion",
         "jessedee know about fludapp awesome ipad iphone app that you ll likely appreciate for its design also they re giving free ts at sxsw"
        ],
        [
         "2",
         "@swonderlin Can not wait for #iPad 2 also. They should sale them down at #SXSW.",
         "iPad",
         "Positive emotion",
         "swonderlin can not wait for ipad also they should sale them down at sxsw"
        ],
        [
         "3",
         "@sxsw I hope this year's festival isn't as crashy as this year's iPhone app. #sxsw",
         "iPad or iPhone App",
         "Negative emotion",
         "sxsw i hope this year s festival isn t as crashy as this year s iphone app sxsw"
        ],
        [
         "4",
         "@sxtxstate great stuff on Fri #SXSW: Marissa Mayer (Google), Tim O'Reilly (tech books/conferences) &amp; Matt Mullenweg (Wordpress)",
         "Google",
         "Positive emotion",
         "sxtxstate great stuff on fri sxsw marissa mayer google tim o reilly tech books conferences amp matt mullenweg wordpress"
        ]
       ],
       "shape": {
        "columns": 4,
        "rows": 5
       }
      },
      "text/html": [
       "<div>\n",
       "<style scoped>\n",
       "    .dataframe tbody tr th:only-of-type {\n",
       "        vertical-align: middle;\n",
       "    }\n",
       "\n",
       "    .dataframe tbody tr th {\n",
       "        vertical-align: top;\n",
       "    }\n",
       "\n",
       "    .dataframe thead th {\n",
       "        text-align: right;\n",
       "    }\n",
       "</style>\n",
       "<table border=\"1\" class=\"dataframe\">\n",
       "  <thead>\n",
       "    <tr style=\"text-align: right;\">\n",
       "      <th></th>\n",
       "      <th>tweet_text</th>\n",
       "      <th>emotion_in_tweet_is_directed_at</th>\n",
       "      <th>is_there_an_emotion_directed_at_a_brand_or_product</th>\n",
       "      <th>clean_tweet</th>\n",
       "    </tr>\n",
       "  </thead>\n",
       "  <tbody>\n",
       "    <tr>\n",
       "      <th>0</th>\n",
       "      <td>.@wesley83 I have a 3G iPhone. After 3 hrs twe...</td>\n",
       "      <td>iPhone</td>\n",
       "      <td>Negative emotion</td>\n",
       "      <td>wesley i have a g iphone after hrs tweeting at...</td>\n",
       "    </tr>\n",
       "    <tr>\n",
       "      <th>1</th>\n",
       "      <td>@jessedee Know about @fludapp ? Awesome iPad/i...</td>\n",
       "      <td>iPad or iPhone App</td>\n",
       "      <td>Positive emotion</td>\n",
       "      <td>jessedee know about fludapp awesome ipad iphon...</td>\n",
       "    </tr>\n",
       "    <tr>\n",
       "      <th>2</th>\n",
       "      <td>@swonderlin Can not wait for #iPad 2 also. The...</td>\n",
       "      <td>iPad</td>\n",
       "      <td>Positive emotion</td>\n",
       "      <td>swonderlin can not wait for ipad also they sho...</td>\n",
       "    </tr>\n",
       "    <tr>\n",
       "      <th>3</th>\n",
       "      <td>@sxsw I hope this year's festival isn't as cra...</td>\n",
       "      <td>iPad or iPhone App</td>\n",
       "      <td>Negative emotion</td>\n",
       "      <td>sxsw i hope this year s festival isn t as cras...</td>\n",
       "    </tr>\n",
       "    <tr>\n",
       "      <th>4</th>\n",
       "      <td>@sxtxstate great stuff on Fri #SXSW: Marissa M...</td>\n",
       "      <td>Google</td>\n",
       "      <td>Positive emotion</td>\n",
       "      <td>sxtxstate great stuff on fri sxsw marissa maye...</td>\n",
       "    </tr>\n",
       "  </tbody>\n",
       "</table>\n",
       "</div>"
      ],
      "text/plain": [
       "                                          tweet_text  \\\n",
       "0  .@wesley83 I have a 3G iPhone. After 3 hrs twe...   \n",
       "1  @jessedee Know about @fludapp ? Awesome iPad/i...   \n",
       "2  @swonderlin Can not wait for #iPad 2 also. The...   \n",
       "3  @sxsw I hope this year's festival isn't as cra...   \n",
       "4  @sxtxstate great stuff on Fri #SXSW: Marissa M...   \n",
       "\n",
       "  emotion_in_tweet_is_directed_at  \\\n",
       "0                          iPhone   \n",
       "1              iPad or iPhone App   \n",
       "2                            iPad   \n",
       "3              iPad or iPhone App   \n",
       "4                          Google   \n",
       "\n",
       "  is_there_an_emotion_directed_at_a_brand_or_product  \\\n",
       "0                                   Negative emotion   \n",
       "1                                   Positive emotion   \n",
       "2                                   Positive emotion   \n",
       "3                                   Negative emotion   \n",
       "4                                   Positive emotion   \n",
       "\n",
       "                                         clean_tweet  \n",
       "0  wesley i have a g iphone after hrs tweeting at...  \n",
       "1  jessedee know about fludapp awesome ipad iphon...  \n",
       "2  swonderlin can not wait for ipad also they sho...  \n",
       "3  sxsw i hope this year s festival isn t as cras...  \n",
       "4  sxtxstate great stuff on fri sxsw marissa maye...  "
      ]
     },
     "execution_count": 9,
     "metadata": {},
     "output_type": "execute_result"
    }
   ],
   "source": [
    "# Clean the tweet text\n",
    "def clean_tweet(text):\n",
    "    text = text.lower()\n",
    "    text = re.sub(r\"http\\S+|www\\S+\", \"\", text)       # remove URLs\n",
    "    text = re.sub(r\"@\", \"\", text)                    # remove '@' but keep the word\n",
    "    text = re.sub(r\"#\", \"\", text)                    # remove '#' but keep the word\n",
    "    text = re.sub(r\"[^a-z0-9]\", \" \", text)              # replace / , & - with spaces\n",
    "    text = re.sub(r\"[^a-z\\s]\", \"\", text)             # keep only letters\n",
    "    text = re.sub(r\"\\s+\", \" \", text).strip()         # remove extra spaces\n",
    "    return text\n",
    "\n",
    "\n",
    "df[\"clean_tweet\"] = df[\"tweet_text\"].apply(clean_tweet)\n",
    "df.head()\n"
   ]
  },
  {
   "cell_type": "code",
   "execution_count": 10,
   "metadata": {},
   "outputs": [
    {
     "data": {
      "application/vnd.microsoft.datawrangler.viewer.v0+json": {
       "columns": [
        {
         "name": "index",
         "rawType": "int64",
         "type": "integer"
        },
        {
         "name": "tweet_text",
         "rawType": "object",
         "type": "string"
        },
        {
         "name": "emotion_in_tweet_is_directed_at",
         "rawType": "object",
         "type": "string"
        },
        {
         "name": "is_there_an_emotion_directed_at_a_brand_or_product",
         "rawType": "object",
         "type": "string"
        },
        {
         "name": "clean_tweet",
         "rawType": "object",
         "type": "string"
        },
        {
         "name": "tokens",
         "rawType": "object",
         "type": "string"
        }
       ],
       "ref": "e58b6f4e-c016-47e6-ba25-42b51f148307",
       "rows": [
        [
         "0",
         ".@wesley83 I have a 3G iPhone. After 3 hrs tweeting at #RISE_Austin, it was dead!  I need to upgrade. Plugin stations at #SXSW.",
         "iPhone",
         "Negative emotion",
         "wesley i have a g iphone after hrs tweeting at rise austin it was dead i need to upgrade plugin stations at sxsw",
         "['wesley', 'g', 'iphone', 'hr', 'tweeting', 'rise', 'austin', 'dead', 'need', 'upgrade', 'plugin', 'station', 'sxsw']"
        ],
        [
         "1",
         "@jessedee Know about @fludapp ? Awesome iPad/iPhone app that you'll likely appreciate for its design. Also, they're giving free Ts at #SXSW",
         "iPad or iPhone App",
         "Positive emotion",
         "jessedee know about fludapp awesome ipad iphone app that you ll likely appreciate for its design also they re giving free ts at sxsw",
         "['jessedee', 'know', 'fludapp', 'awesome', 'ipad', 'iphone', 'app', 'likely', 'appreciate', 'design', 'also', 'giving', 'free', 't', 'sxsw']"
        ],
        [
         "2",
         "@swonderlin Can not wait for #iPad 2 also. They should sale them down at #SXSW.",
         "iPad",
         "Positive emotion",
         "swonderlin can not wait for ipad also they should sale them down at sxsw",
         "['swonderlin', 'wait', 'ipad', 'also', 'sale', 'sxsw']"
        ],
        [
         "3",
         "@sxsw I hope this year's festival isn't as crashy as this year's iPhone app. #sxsw",
         "iPad or iPhone App",
         "Negative emotion",
         "sxsw i hope this year s festival isn t as crashy as this year s iphone app sxsw",
         "['sxsw', 'hope', 'year', 'festival', 'crashy', 'year', 'iphone', 'app', 'sxsw']"
        ],
        [
         "4",
         "@sxtxstate great stuff on Fri #SXSW: Marissa Mayer (Google), Tim O'Reilly (tech books/conferences) &amp; Matt Mullenweg (Wordpress)",
         "Google",
         "Positive emotion",
         "sxtxstate great stuff on fri sxsw marissa mayer google tim o reilly tech books conferences amp matt mullenweg wordpress",
         "['sxtxstate', 'great', 'stuff', 'fri', 'sxsw', 'marissa', 'mayer', 'google', 'tim', 'reilly', 'tech', 'book', 'conference', 'amp', 'matt', 'mullenweg', 'wordpress']"
        ]
       ],
       "shape": {
        "columns": 5,
        "rows": 5
       }
      },
      "text/html": [
       "<div>\n",
       "<style scoped>\n",
       "    .dataframe tbody tr th:only-of-type {\n",
       "        vertical-align: middle;\n",
       "    }\n",
       "\n",
       "    .dataframe tbody tr th {\n",
       "        vertical-align: top;\n",
       "    }\n",
       "\n",
       "    .dataframe thead th {\n",
       "        text-align: right;\n",
       "    }\n",
       "</style>\n",
       "<table border=\"1\" class=\"dataframe\">\n",
       "  <thead>\n",
       "    <tr style=\"text-align: right;\">\n",
       "      <th></th>\n",
       "      <th>tweet_text</th>\n",
       "      <th>emotion_in_tweet_is_directed_at</th>\n",
       "      <th>is_there_an_emotion_directed_at_a_brand_or_product</th>\n",
       "      <th>clean_tweet</th>\n",
       "      <th>tokens</th>\n",
       "    </tr>\n",
       "  </thead>\n",
       "  <tbody>\n",
       "    <tr>\n",
       "      <th>0</th>\n",
       "      <td>.@wesley83 I have a 3G iPhone. After 3 hrs twe...</td>\n",
       "      <td>iPhone</td>\n",
       "      <td>Negative emotion</td>\n",
       "      <td>wesley i have a g iphone after hrs tweeting at...</td>\n",
       "      <td>[wesley, g, iphone, hr, tweeting, rise, austin...</td>\n",
       "    </tr>\n",
       "    <tr>\n",
       "      <th>1</th>\n",
       "      <td>@jessedee Know about @fludapp ? Awesome iPad/i...</td>\n",
       "      <td>iPad or iPhone App</td>\n",
       "      <td>Positive emotion</td>\n",
       "      <td>jessedee know about fludapp awesome ipad iphon...</td>\n",
       "      <td>[jessedee, know, fludapp, awesome, ipad, iphon...</td>\n",
       "    </tr>\n",
       "    <tr>\n",
       "      <th>2</th>\n",
       "      <td>@swonderlin Can not wait for #iPad 2 also. The...</td>\n",
       "      <td>iPad</td>\n",
       "      <td>Positive emotion</td>\n",
       "      <td>swonderlin can not wait for ipad also they sho...</td>\n",
       "      <td>[swonderlin, wait, ipad, also, sale, sxsw]</td>\n",
       "    </tr>\n",
       "    <tr>\n",
       "      <th>3</th>\n",
       "      <td>@sxsw I hope this year's festival isn't as cra...</td>\n",
       "      <td>iPad or iPhone App</td>\n",
       "      <td>Negative emotion</td>\n",
       "      <td>sxsw i hope this year s festival isn t as cras...</td>\n",
       "      <td>[sxsw, hope, year, festival, crashy, year, iph...</td>\n",
       "    </tr>\n",
       "    <tr>\n",
       "      <th>4</th>\n",
       "      <td>@sxtxstate great stuff on Fri #SXSW: Marissa M...</td>\n",
       "      <td>Google</td>\n",
       "      <td>Positive emotion</td>\n",
       "      <td>sxtxstate great stuff on fri sxsw marissa maye...</td>\n",
       "      <td>[sxtxstate, great, stuff, fri, sxsw, marissa, ...</td>\n",
       "    </tr>\n",
       "  </tbody>\n",
       "</table>\n",
       "</div>"
      ],
      "text/plain": [
       "                                          tweet_text  \\\n",
       "0  .@wesley83 I have a 3G iPhone. After 3 hrs twe...   \n",
       "1  @jessedee Know about @fludapp ? Awesome iPad/i...   \n",
       "2  @swonderlin Can not wait for #iPad 2 also. The...   \n",
       "3  @sxsw I hope this year's festival isn't as cra...   \n",
       "4  @sxtxstate great stuff on Fri #SXSW: Marissa M...   \n",
       "\n",
       "  emotion_in_tweet_is_directed_at  \\\n",
       "0                          iPhone   \n",
       "1              iPad or iPhone App   \n",
       "2                            iPad   \n",
       "3              iPad or iPhone App   \n",
       "4                          Google   \n",
       "\n",
       "  is_there_an_emotion_directed_at_a_brand_or_product  \\\n",
       "0                                   Negative emotion   \n",
       "1                                   Positive emotion   \n",
       "2                                   Positive emotion   \n",
       "3                                   Negative emotion   \n",
       "4                                   Positive emotion   \n",
       "\n",
       "                                         clean_tweet  \\\n",
       "0  wesley i have a g iphone after hrs tweeting at...   \n",
       "1  jessedee know about fludapp awesome ipad iphon...   \n",
       "2  swonderlin can not wait for ipad also they sho...   \n",
       "3  sxsw i hope this year s festival isn t as cras...   \n",
       "4  sxtxstate great stuff on fri sxsw marissa maye...   \n",
       "\n",
       "                                              tokens  \n",
       "0  [wesley, g, iphone, hr, tweeting, rise, austin...  \n",
       "1  [jessedee, know, fludapp, awesome, ipad, iphon...  \n",
       "2         [swonderlin, wait, ipad, also, sale, sxsw]  \n",
       "3  [sxsw, hope, year, festival, crashy, year, iph...  \n",
       "4  [sxtxstate, great, stuff, fri, sxsw, marissa, ...  "
      ]
     },
     "execution_count": 10,
     "metadata": {},
     "output_type": "execute_result"
    }
   ],
   "source": [
    "# Tokenization\n",
    "df[\"tokens\"] = df[\"clean_tweet\"].apply(word_tokenize)\n",
    "# Remove stop words\n",
    "stop_words = set(stopwords.words(\"english\"))\n",
    "df[\"tokens\"] = df[\"tokens\"].apply(lambda x: [w for w in x if w not in stop_words])\n",
    "# Lemmatization\n",
    "lemmatizer = WordNetLemmatizer()\n",
    "df[\"tokens\"] = df[\"tokens\"].apply(lambda x: [lemmatizer.lemmatize(w) for w in x])\n",
    "df.head()"
   ]
  },
  {
   "cell_type": "markdown",
   "metadata": {},
   "source": [
    "## Exploratory Data Analysis\n",
    "In this step, the dataset was examined to gain an initial understanding of its structure, distribution, and key characteristics. Summary statistics and visualizations were used to assess the balance of sentiment classes, the frequency of tweets across product categories, and the distribution of tweets between Apple and Google."
   ]
  },
  {
   "cell_type": "markdown",
   "metadata": {},
   "source": [
    "### Distibution of tweet sentments \n",
    "To better understand how emotions are expressed in the dataset, we examine the distribution of tweet sentiments across the different categories. This helps reveal whether the data is balanced or skewed toward particular sentiment classes, which is important for guiding model selection and evaluation."
   ]
  },
  {
   "cell_type": "code",
   "execution_count": 11,
   "metadata": {},
   "outputs": [
    {
     "data": {
      "application/vnd.microsoft.datawrangler.viewer.v0+json": {
       "columns": [
        {
         "name": "index",
         "rawType": "object",
         "type": "string"
        },
        {
         "name": "is_there_an_emotion_directed_at_a_brand_or_product",
         "rawType": "int64",
         "type": "integer"
        }
       ],
       "ref": "f9caa508-9823-451f-87ce-9d270cf813ea",
       "rows": [
        [
         "Neutral emotion",
         "5544"
        ],
        [
         "Positive emotion",
         "2978"
        ],
        [
         "Negative emotion",
         "570"
        ]
       ],
       "shape": {
        "columns": 1,
        "rows": 3
       }
      },
      "text/plain": [
       "Neutral emotion     5544\n",
       "Positive emotion    2978\n",
       "Negative emotion     570\n",
       "Name: is_there_an_emotion_directed_at_a_brand_or_product, dtype: int64"
      ]
     },
     "execution_count": 11,
     "metadata": {},
     "output_type": "execute_result"
    }
   ],
   "source": [
    "# count of each sentiment category\n",
    "df['is_there_an_emotion_directed_at_a_brand_or_product'].value_counts()"
   ]
  },
  {
   "cell_type": "markdown",
   "metadata": {},
   "source": [
    "### Plotting Tweets Sentiment Distribution"
   ]
  },
  {
   "cell_type": "code",
   "execution_count": 12,
   "metadata": {},
   "outputs": [
    {
     "data": {
      "image/png": "[encoded data removed]",
      "text/plain": [
       "<Figure size 576x360 with 1 Axes>"
      ]
     },
     "metadata": {
      "needs_background": "light"
     },
     "output_type": "display_data"
    }
   ],
   "source": [
    "# Distributions of tweet sentiments\n",
    "plt.figure(figsize=(8, 5))\n",
    "sns.countplot(\n",
    "    data=df,\n",
    "    x='is_there_an_emotion_directed_at_a_brand_or_product',\n",
    "    order=df['is_there_an_emotion_directed_at_a_brand_or_product'].value_counts().index,\n",
    "    palette='Blues'   \n",
    ")\n",
    "plt.title('Distribution of Tweet Sentiments')\n",
    "plt.xlabel('Sentiment')\n",
    "plt.ylabel('Count')\n",
    "plt.xticks(rotation=45)\n",
    "plt.show()\n"
   ]
  },
  {
   "cell_type": "markdown",
   "metadata": {},
   "source": [
    "The sentiment distribution indicates that the majority of conversations are neutral, with 5,544 tweets (the dominant category). This suggests that while consumers are actively discussing brands and products, a large portion of the discourse remains informational or unbiased, lacking strong emotional tones.\n",
    "\n",
    "Positive sentiment follows with 2,978 tweets, highlighting a considerable base of satisfied or supportive consumers who express favorable opinions. Meanwhile, negative sentiment is minimal, at only 570 tweets, indicating relatively low levels of dissatisfaction or criticism compared to the overall conversation volume.\n",
    "\n",
    "Business implication: The dominance of neutral sentiment suggests that many consumers are either undecided or simply sharing factual content without emotional attachment. This presents an opportunity for brands to convert neutral mentions into positive advocacy through targeted engagement and value-driven messaging, while continuing to monitor and address negative feedback to protect brand reputation."
   ]
  },
  {
   "cell_type": "markdown",
   "metadata": {},
   "source": [
    "### Brand Sentiments Analysis"
   ]
  },
  {
   "cell_type": "code",
   "execution_count": 13,
   "metadata": {},
   "outputs": [
    {
     "data": {
      "image/png": "[encoded data removed]",
      "text/plain": [
       "<Figure size 720x432 with 1 Axes>"
      ]
     },
     "metadata": {
      "needs_background": "light"
     },
     "output_type": "display_data"
    }
   ],
   "source": [
    "# Normalize Apple products\n",
    "df['emotion_in_tweet_is_directed_at'] = df['emotion_in_tweet_is_directed_at'].replace(\n",
    "    {'iPad': 'Apple', 'iPhone': 'Apple','iPad or iPhone App': 'Apple','Other Apple product or service': 'Apple','Android': 'Google','Android App': 'Google','Other Google product or service': 'Google'}\n",
    ")\n",
    "\n",
    "# Keep only positive & negative sentiments\n",
    "filtered = df[df['is_there_an_emotion_directed_at_a_brand_or_product'].isin(['Positive emotion', 'Negative emotion', 'Neutral emotion'])]\n",
    "\n",
    "# Get top 5 categories by total count (pos+neg)\n",
    "top5_categories = (\n",
    "    filtered.groupby('emotion_in_tweet_is_directed_at')\n",
    "    .size()\n",
    "    .nlargest(5)\n",
    "    .index\n",
    ")\n",
    "\n",
    "# Subset to top 5\n",
    "subset = filtered[filtered['emotion_in_tweet_is_directed_at'].isin(top5_categories)]\n",
    "\n",
    "# Plot side-by-side bars\n",
    "plt.figure(figsize=(10,6))\n",
    "ax = sns.countplot(\n",
    "    data=subset,\n",
    "    x='emotion_in_tweet_is_directed_at',\n",
    "    hue='is_there_an_emotion_directed_at_a_brand_or_product',  # Positive vs Negative\n",
    "    palette='Blues'\n",
    ")\n",
    "\n",
    "# Add labels on top of bars\n",
    "for p in ax.patches:\n",
    "    height = int(p.get_height())\n",
    "    ax.annotate(height,\n",
    "                (p.get_x() + p.get_width() / 2., height),\n",
    "                ha='center', va='bottom',\n",
    "                fontsize=10, color='black',\n",
    "                xytext=(0, 5), textcoords='offset points')\n",
    "\n",
    "plt.title('Top 5 Categories by Positive and Negative Sentiments')\n",
    "plt.xlabel('Category')\n",
    "plt.ylabel('Count')\n",
    "plt.xticks(rotation=45)\n",
    "plt.legend(title=\"Sentiment\")\n",
    "plt.show()\n"
   ]
  },
  {
   "cell_type": "markdown",
   "metadata": {},
   "source": [
    "The analysis reveals that Apple holds a stronger brand perception compared to Google within the dataset. Apple products and the brand generate the highest level of engagement, with 1,949 positive mentions against 388 negative mentions, indicating strong consumer affinity despite some criticism. This suggests that Apple’s visibility and brand equity continue to drive consumer conversations, reinforcing its position as a market leader.\n",
    "\n",
    "In contrast, Google records 723 positive mentions and 131 negative mentions, reflecting a more modest but consistently favorable brand perception. While Google faces less criticism relative to Apple, the lower engagement volume indicates it does not command the same level of consumer passion or market buzz.\n",
    "\n",
    "Business implication: Apple’s strong but more polarized presence highlights both its competitive strength and the need to address customer pain points to sustain loyalty. Google, meanwhile, maintains a stable and less contentious perception, but may need to invest in strategies that enhance consumer engagement and brand excitement to match Apple’s market visibility."
   ]
  },
  {
   "cell_type": "markdown",
   "metadata": {},
   "source": [
    "## Tweet Length Distribution by Sentiment"
   ]
  },
  {
   "cell_type": "code",
   "execution_count": 14,
   "metadata": {},
   "outputs": [
    {
     "data": {
      "image/png": "[encoded data removed]",
      "text/plain": [
       "<Figure size 864x288 with 3 Axes>"
      ]
     },
     "metadata": {
      "needs_background": "light"
     },
     "output_type": "display_data"
    }
   ],
   "source": [
    "# Add a new column with tweet lengths (if not already created)\n",
    "df['tweet_length'] = df['clean_tweet'].apply(lambda x: len(str(x).split()))\n",
    "\n",
    "# Plot histogram for each sentiment separately\n",
    "g = sns.FacetGrid(\n",
    "    df, \n",
    "    col=\"is_there_an_emotion_directed_at_a_brand_or_product\", \n",
    "    col_wrap=3, \n",
    "    height=4, \n",
    "    sharex=True, \n",
    "    sharey=False\n",
    ")\n",
    "\n",
    "g.map(sns.histplot, \"tweet_length\", bins=30, color=\"steelblue\")\n",
    "\n",
    "g.set_axis_labels(\"Tweet Length (Number of Words)\", \"Count\")\n",
    "g.set_titles(col_template=\"{col_name} Sentiment\")\n",
    "plt.subplots_adjust(top=0.9)\n",
    "g.fig.suptitle(\"Distribution of Tweet Lengths by Sentiment\")\n",
    "plt.show()"
   ]
  },
  {
   "cell_type": "markdown",
   "metadata": {},
   "source": [
    "Negative Tweets: These fall into distinct groups with a clear peak around 22–24 words. Very short tweets (<10 words) and very long tweets (>30 words) are rare. The distribution is right-skewed, suggesting that while most negative tweets are moderately long, a few extend further in length.\n",
    ".\n",
    "\n",
    "Positive Tweets: The curve peaks around 18–20 words, with most tweets ranging between 10 and 26 words. The distribution is also right-skewed, indicating that users tend to use slightly more words when expressing positive sentiment.\n",
    "\n",
    "Neutral Tweets: These follow a normal distribution with a strong central peak at 18 words, showing a consistent word count pattern. This suggests that neutral tweets are more standardized, possibly because they are more factual or informational."
   ]
  },
  {
   "cell_type": "code",
   "execution_count": 15,
   "metadata": {},
   "outputs": [
    {
     "data": {
      "image/png": "[encoded data removed]",
      "text/plain": [
       "<Figure size 720x1080 with 3 Axes>"
      ]
     },
     "metadata": {
      "needs_background": "light"
     },
     "output_type": "display_data"
    }
   ],
   "source": [
    "\n",
    "\n",
    "# Function to get most common words for a given sentiment\n",
    "def get_top_words(df, sentiment_col, tokens_col, sentiment, n=10):\n",
    "    # Filter by sentiment\n",
    "    subset = df[df[sentiment_col] == sentiment]\n",
    "    \n",
    "    # Flatten tokens\n",
    "    tokens = [word for tokens in subset[tokens_col] for word in tokens]\n",
    "    \n",
    "    # Get frequencies\n",
    "    freq = Counter(tokens).most_common(n)\n",
    "    return freq\n",
    "\n",
    "# Unique sentiment labels\n",
    "sentiments = df[\"is_there_an_emotion_directed_at_a_brand_or_product\"].unique()\n",
    "\n",
    "# Setup plots\n",
    "fig, axes = plt.subplots(len(sentiments), 1, figsize=(10, 5*len(sentiments)))\n",
    "\n",
    "if len(sentiments) == 1:  # handle case of single sentiment\n",
    "    axes = [axes]\n",
    "\n",
    "for i, sentiment in enumerate(sentiments):\n",
    "    freq = get_top_words(df, \"is_there_an_emotion_directed_at_a_brand_or_product\", \"tokens\", sentiment, n=10)\n",
    "    \n",
    "    if freq:  # avoid empty plots\n",
    "        words, counts = zip(*freq)\n",
    "        sns.barplot(x=list(counts), y=list(words), ax=axes[i], palette=\"Blues\")\n",
    "        axes[i].set_title(f\"Most Frequent Words - {sentiment}\")\n",
    "        axes[i].set_xlabel(\"Frequency\")\n",
    "        axes[i].set_ylabel(\"Words\")\n",
    "    else:\n",
    "        axes[i].set_visible(False)\n",
    "\n",
    "plt.tight_layout()\n",
    "plt.show()\n"
   ]
  },
  {
   "cell_type": "markdown",
   "metadata": {},
   "source": [
    "The analysis of most frequent words by sentiment shows that discussions on Twitter were largely event-driven, with “sxsw” dominating across negative, positive, and neutral tweets. \n",
    "\n",
    "Negative tweets focused on dissatisfaction with the event or frustrations with tech products like the iPad, iPhone, Apple, and Google, highlighting complaints about performance or unmet expectations. \n",
    "\n",
    "In contrast, positive tweets reflected enthusiasm and praise for the same event and products, underscoring how shared experiences can generate both excitement and criticism. \n",
    "\n",
    "Neutral tweets, meanwhile, were largely informational, consisting of news, updates, and links about SXSW and tech launches, without strong emotional tones. Overall, the findings reveal that major events and product releases act as flashpoints for sentiment on Twitter, producing a mix of praise, criticism, and factual reporting that is quickly amplified through mentions and retweets."
   ]
  },
  {
   "cell_type": "code",
   "execution_count": null,
   "metadata": {},
   "outputs": [],
   "source": []
  },
  {
   "cell_type": "code",
   "execution_count": 16,
   "metadata": {},
   "outputs": [],
   "source": [
    "# mapping sentiment labels to numerical values\n",
    "sentiment_mapping = {\n",
    "    'Positive emotion': 1,\n",
    "    'Negative emotion': -1,\n",
    "    'Neutral emotion': 0\n",
    "}\n",
    "\n",
    "df['sentiment_score'] = df['is_there_an_emotion_directed_at_a_brand_or_product'].map(sentiment_mapping)\n"
   ]
  },
  {
   "cell_type": "markdown",
   "metadata": {},
   "source": [
    "# Modeling "
   ]
  },
  {
   "cell_type": "code",
   "execution_count": 17,
   "metadata": {},
   "outputs": [],
   "source": [
    "#split the data into features and target\n",
    "X = df['clean_tweet']\n",
    "y = df['sentiment_score']\n",
    "\n",
    "x_train, x_test, y_train, y_test = train_test_split(X, y, test_size=0.2, random_state=42)"
   ]
  },
  {
   "cell_type": "code",
   "execution_count": 18,
   "metadata": {},
   "outputs": [
    {
     "data": {
      "text/plain": [
       "Pipeline(steps=[('tfidf', TfidfVectorizer(max_df=0.9, min_df=0.01)),\n",
       "                ('nb', MultinomialNB())])"
      ]
     },
     "execution_count": 18,
     "metadata": {},
     "output_type": "execute_result"
    }
   ],
   "source": [
    "# vectorization using TF-IDF\n",
    "nlp_pipe = Pipeline([\n",
    "    ('tfidf', TfidfVectorizer(min_df=0.01, max_df=0.9)), \n",
    "    ('nb', MultinomialNB())\n",
    "])\n",
    "\n",
    "nlp_pipe.fit(x_train, y_train)\n"
   ]
  },
  {
   "cell_type": "code",
   "execution_count": 19,
   "metadata": {},
   "outputs": [
    {
     "name": "stdout",
     "output_type": "stream",
     "text": [
      "              precision    recall  f1-score   support\n",
      "\n",
      "          -1       0.00      0.00      0.00       121\n",
      "           0       0.64      0.96      0.77      1092\n",
      "           1       0.68      0.19      0.29       606\n",
      "\n",
      "    accuracy                           0.64      1819\n",
      "   macro avg       0.44      0.38      0.35      1819\n",
      "weighted avg       0.61      0.64      0.56      1819\n",
      "\n",
      "Confusion Matrix:\n",
      " [[   0  109   12]\n",
      " [   0 1051   41]\n",
      " [   0  493  113]]\n",
      "Accuracy: 0.639912039582188\n"
     ]
    }
   ],
   "source": [
    "# predictions\n",
    "y_pred = nlp_pipe.predict(x_test)\n",
    "print(classification_report(y_test, y_pred))\n",
    "print(\"Confusion Matrix:\\n\", confusion_matrix(y_test, y_pred))\n",
    "print(\"Accuracy:\", accuracy_score(y_test, y_pred))"
   ]
  }
 ],
 "metadata": {
  "kernelspec": {
   "display_name": "learn-env",
   "language": "python",
   "name": "python3"
  },
  "language_info": {
   "codemirror_mode": {
    "name": "ipython",
    "version": 3
   },
   "file_extension": ".py",
   "mimetype": "text/x-python",
   "name": "python",
   "nbconvert_exporter": "python",
   "pygments_lexer": "ipython3",
   "version": "3.8.5"
  }
 },
 "nbformat": 4,
 "nbformat_minor": 2
}
